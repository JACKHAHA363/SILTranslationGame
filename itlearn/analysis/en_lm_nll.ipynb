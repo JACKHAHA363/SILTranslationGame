{
 "cells": [
  {
   "cell_type": "code",
   "execution_count": 4,
   "metadata": {},
   "outputs": [],
   "source": [
    "import numpy as np\n",
    "import matplotlib.pyplot as plt\n",
    "from pathlib import Path\n",
    "import pprint\n",
    "import torch\n",
    "import plotly.plotly as py\n",
    "import plotly.graph_objs as go\n",
    "import plotly\n",
    "import math\n",
    "plotly.tools.set_credentials_file(username='loneplay', api_key='pX8Z1nKtnRU4ppihpRrn')"
   ]
  },
  {
   "cell_type": "code",
   "execution_count": 5,
   "metadata": {},
   "outputs": [
    {
     "name": "stdout",
     "output_type": "stream",
     "text": [
      "['/checkpoint/jasonleeinf/groundcomms/decoding_180612_cpt_alpha/multi30k/06.12_13.48.joint_cpt400_nllmean_ce1.0_pg10.0_vf1.0_lr3e-05_linear_ann100k_drop0.3_reinforce_msg1.0x_clip5.0_',\n",
      " '/checkpoint/jasonleeinf/groundcomms/decoding_180612_cpt_alpha/multi30k/06.12_13.48.joint_cpt400_nllmean_ce1.0_pg10.0_vf1.0_lr1e-04_linear_ann100k_drop0.3_reinforce_msg1.0x_clip5.0_',\n",
      " '/checkpoint/jasonleeinf/groundcomms/decoding_180612_cpt_alpha/multi30k/06.12_13.48.joint_cpt600_nllmean_ce1.0_pg10.0_vf1.0_lr3e-05_linear_ann100k_drop0.3_reinforce_msg1.0x_clip5.0_',\n",
      " '/checkpoint/jasonleeinf/groundcomms/decoding_180612_cpt_alpha/multi30k/06.12_13.48.joint_cpt800_nllmean_ce1.0_pg10.0_vf1.0_lr1e-04_linear_ann100k_drop0.3_reinforce_msg1.0x_clip5.0_',\n",
      " '/checkpoint/jasonleeinf/groundcomms/decoding_180612_cpt_alpha/multi30k/06.12_13.47.joint_cpt1000_nllmean_ce1.0_pg10.0_vf1.0_lr1e-04_linear_ann100k_drop0.3_reinforce_msg1.0x_clip5.0_',\n",
      " '/checkpoint/jasonleeinf/groundcomms/decoding_180612_cpt_alpha/multi30k/06.12_13.47.joint_cpt2500_nllmean_ce1.0_pg10.0_vf1.0_lr1e-04_linear_ann100k_drop0.3_reinforce_msg1.0x_clip5.0_',\n",
      " '/checkpoint/jasonleeinf/groundcomms/decoding_180612_cpt_alpha/multi30k/06.12_13.47.joint_cpt2500_nllmean_ce1.0_pg10.0_vf1.0_lr3e-05_linear_ann100k_drop0.3_reinforce_msg2.0x_clip5.0_',\n",
      " '/checkpoint/jasonleeinf/groundcomms/decoding_180612_cpt_alpha/multi30k/06.12_13.47.joint_cpt2500_nllmean_ce1.0_pg10.0_vf1.0_lr3e-04_linear_ann100k_drop0.3_reinforce_msg2.0x_clip5.0_',\n",
      " '/checkpoint/jasonleeinf/groundcomms/decoding_180612_cpt_alpha/multi30k/06.12_13.47.joint_cpt5000_nllmean_ce1.0_pg10.0_vf1.0_lr1e-04_linear_ann100k_drop0.3_reinforce_msg1.0x_clip5.0_',\n",
      " '/checkpoint/jasonleeinf/groundcomms/decoding_180612_cpt_alpha/multi30k/06.12_13.47.joint_cpt5000_nllmean_ce1.0_pg10.0_vf1.0_lr3e-04_linear_ann100k_drop0.3_reinforce_msg2.0x_clip5.0_',\n",
      " '/checkpoint/jasonleeinf/groundcomms/decoding_180612_cpt_alpha/multi30k/06.12_13.48.joint_cpt10000_nllmean_ce1.0_pg10.0_vf1.0_lr1e-04_linear_ann100k_drop0.3_reinforce_msg1.0x_clip5.0_',\n",
      " '/checkpoint/jasonleeinf/groundcomms/decoding_180612_cpt_alpha/multi30k/06.12_13.47.joint_cpt10000_nllmean_ce1.0_pg10.0_vf1.0_lr3e-04_linear_ann100k_drop0.3_reinforce_msg2.0x_clip5.0_']\n"
     ]
    }
   ],
   "source": [
    "gc_hps = [ \n",
    "          (400, 1.0, 3e-05),\n",
    "           (400, 1.0, 1e-04),\n",
    "           (600, 1.0, 3e-05),\n",
    "           (800, 1.0, 1e-04),\n",
    "           (1000, 1.0, 1e-04),\n",
    "           (2500, 1.0, 1e-04),\n",
    "           (2500, 2.0, 3e-05),\n",
    "           (2500, 2.0, 3e-04),\n",
    "           (5000, 1.0, 1e-04),\n",
    "           (5000, 2.0, 3e-04),\n",
    "           (10000, 1.0, 1e-04),\n",
    "           (10000, 2.0, 3e-04),          \n",
    "         ]\n",
    "\n",
    "gc_paths = []\n",
    "\n",
    "for cpt, alpha, lr in gc_hps:\n",
    "    path = Path(\"/checkpoint/jasonleeinf/groundcomms/decoding_180612_cpt_alpha/multi30k\")\n",
    "    for subdir in path.iterdir():\n",
    "        ss = str(subdir)\n",
    "        if \"cpt{}_\".format(cpt) in ss and \\\n",
    "           \"msg{}x_\".format(alpha) in ss and \\\n",
    "           \"lr{:.0e}_\".format(lr) in ss:\n",
    "            gc_paths.append( ss )\n",
    "\n",
    "pprint.pprint( gc_paths )\n"
   ]
  },
  {
   "cell_type": "code",
   "execution_count": 6,
   "metadata": {},
   "outputs": [
    {
     "name": "stdout",
     "output_type": "stream",
     "text": [
      "['/checkpoint/jasonleeinf/groundcomms/decoding_180612_cpt_alpha/multi30k/06.12_13.48.joint_cpt400_nllmean_ce1.0_pg10.0_vf1.0_lr3e-05_linear_ann100k_drop0.3_reinforce_msg1.0x_clip5.0_/multi30k_Feedforward_lr5.0_drop0.5_filter4_',\n",
      " '/checkpoint/jasonleeinf/groundcomms/decoding_180612_cpt_alpha/multi30k/06.12_13.48.joint_cpt400_nllmean_ce1.0_pg10.0_vf1.0_lr3e-05_linear_ann100k_drop0.3_reinforce_msg1.0x_clip5.0_/multi30k_RNN_lr20.0_drop0.5_',\n",
      " '/checkpoint/jasonleeinf/groundcomms/decoding_180612_cpt_alpha/multi30k/06.12_13.48.joint_cpt400_nllmean_ce1.0_pg10.0_vf1.0_lr3e-05_linear_ann100k_drop0.3_reinforce_msg1.0x_clip5.0_/coco_RNN_lr10.0_drop0.5_',\n",
      " '/checkpoint/jasonleeinf/groundcomms/decoding_180612_cpt_alpha/multi30k/06.12_13.48.joint_cpt400_nllmean_ce1.0_pg10.0_vf1.0_lr3e-05_linear_ann100k_drop0.3_reinforce_msg1.0x_clip5.0_/coco_Feedforward_lr20.0_drop0.5_filter4_',\n",
      " '/checkpoint/jasonleeinf/groundcomms/decoding_180612_cpt_alpha/multi30k/06.12_13.48.joint_cpt400_nllmean_ce1.0_pg10.0_vf1.0_lr3e-05_linear_ann100k_drop0.3_reinforce_msg1.0x_clip5.0_/wikitext2_Feedforward_lr5.0_drop0.3_filter4_',\n",
      " '/checkpoint/jasonleeinf/groundcomms/decoding_180612_cpt_alpha/multi30k/06.12_13.48.joint_cpt400_nllmean_ce1.0_pg10.0_vf1.0_lr3e-05_linear_ann100k_drop0.3_reinforce_msg1.0x_clip5.0_/wikitext2_RNN_lr20.0_drop0.5_',\n",
      " '/checkpoint/jasonleeinf/groundcomms/decoding_180612_cpt_alpha/multi30k/06.12_13.48.joint_cpt400_nllmean_ce1.0_pg10.0_vf1.0_lr3e-05_linear_ann100k_drop0.3_reinforce_msg1.0x_clip5.0_/multi30k_RNN_lr20_drop0.5_',\n",
      " '/checkpoint/jasonleeinf/groundcomms/decoding_180612_cpt_alpha/multi30k/06.12_13.48.joint_cpt400_nllmean_ce1.0_pg10.0_vf1.0_lr1e-04_linear_ann100k_drop0.3_reinforce_msg1.0x_clip5.0_/multi30k_Feedforward_lr5.0_drop0.5_filter4_',\n",
      " '/checkpoint/jasonleeinf/groundcomms/decoding_180612_cpt_alpha/multi30k/06.12_13.48.joint_cpt400_nllmean_ce1.0_pg10.0_vf1.0_lr1e-04_linear_ann100k_drop0.3_reinforce_msg1.0x_clip5.0_/multi30k_RNN_lr20.0_drop0.5_',\n",
      " '/checkpoint/jasonleeinf/groundcomms/decoding_180612_cpt_alpha/multi30k/06.12_13.48.joint_cpt400_nllmean_ce1.0_pg10.0_vf1.0_lr1e-04_linear_ann100k_drop0.3_reinforce_msg1.0x_clip5.0_/coco_RNN_lr10.0_drop0.5_',\n",
      " '/checkpoint/jasonleeinf/groundcomms/decoding_180612_cpt_alpha/multi30k/06.12_13.48.joint_cpt400_nllmean_ce1.0_pg10.0_vf1.0_lr1e-04_linear_ann100k_drop0.3_reinforce_msg1.0x_clip5.0_/coco_Feedforward_lr20.0_drop0.5_filter4_',\n",
      " '/checkpoint/jasonleeinf/groundcomms/decoding_180612_cpt_alpha/multi30k/06.12_13.48.joint_cpt400_nllmean_ce1.0_pg10.0_vf1.0_lr1e-04_linear_ann100k_drop0.3_reinforce_msg1.0x_clip5.0_/wikitext2_Feedforward_lr5.0_drop0.3_filter4_',\n",
      " '/checkpoint/jasonleeinf/groundcomms/decoding_180612_cpt_alpha/multi30k/06.12_13.48.joint_cpt400_nllmean_ce1.0_pg10.0_vf1.0_lr1e-04_linear_ann100k_drop0.3_reinforce_msg1.0x_clip5.0_/wikitext2_RNN_lr20.0_drop0.5_',\n",
      " '/checkpoint/jasonleeinf/groundcomms/decoding_180612_cpt_alpha/multi30k/06.12_13.48.joint_cpt400_nllmean_ce1.0_pg10.0_vf1.0_lr1e-04_linear_ann100k_drop0.3_reinforce_msg1.0x_clip5.0_/multi30k_RNN_lr20_drop0.5_',\n",
      " '/checkpoint/jasonleeinf/groundcomms/decoding_180612_cpt_alpha/multi30k/06.12_13.48.joint_cpt600_nllmean_ce1.0_pg10.0_vf1.0_lr3e-05_linear_ann100k_drop0.3_reinforce_msg1.0x_clip5.0_/multi30k_Feedforward_lr5.0_drop0.5_filter4_',\n",
      " '/checkpoint/jasonleeinf/groundcomms/decoding_180612_cpt_alpha/multi30k/06.12_13.48.joint_cpt600_nllmean_ce1.0_pg10.0_vf1.0_lr3e-05_linear_ann100k_drop0.3_reinforce_msg1.0x_clip5.0_/multi30k_RNN_lr20.0_drop0.5_',\n",
      " '/checkpoint/jasonleeinf/groundcomms/decoding_180612_cpt_alpha/multi30k/06.12_13.48.joint_cpt600_nllmean_ce1.0_pg10.0_vf1.0_lr3e-05_linear_ann100k_drop0.3_reinforce_msg1.0x_clip5.0_/coco_RNN_lr10.0_drop0.5_',\n",
      " '/checkpoint/jasonleeinf/groundcomms/decoding_180612_cpt_alpha/multi30k/06.12_13.48.joint_cpt600_nllmean_ce1.0_pg10.0_vf1.0_lr3e-05_linear_ann100k_drop0.3_reinforce_msg1.0x_clip5.0_/coco_Feedforward_lr20.0_drop0.5_filter4_',\n",
      " '/checkpoint/jasonleeinf/groundcomms/decoding_180612_cpt_alpha/multi30k/06.12_13.48.joint_cpt600_nllmean_ce1.0_pg10.0_vf1.0_lr3e-05_linear_ann100k_drop0.3_reinforce_msg1.0x_clip5.0_/wikitext2_Feedforward_lr5.0_drop0.3_filter4_',\n",
      " '/checkpoint/jasonleeinf/groundcomms/decoding_180612_cpt_alpha/multi30k/06.12_13.48.joint_cpt600_nllmean_ce1.0_pg10.0_vf1.0_lr3e-05_linear_ann100k_drop0.3_reinforce_msg1.0x_clip5.0_/wikitext2_RNN_lr20.0_drop0.5_',\n",
      " '/checkpoint/jasonleeinf/groundcomms/decoding_180612_cpt_alpha/multi30k/06.12_13.48.joint_cpt600_nllmean_ce1.0_pg10.0_vf1.0_lr3e-05_linear_ann100k_drop0.3_reinforce_msg1.0x_clip5.0_/multi30k_RNN_lr20_drop0.5_',\n",
      " '/checkpoint/jasonleeinf/groundcomms/decoding_180612_cpt_alpha/multi30k/06.12_13.48.joint_cpt800_nllmean_ce1.0_pg10.0_vf1.0_lr1e-04_linear_ann100k_drop0.3_reinforce_msg1.0x_clip5.0_/multi30k_Feedforward_lr5.0_drop0.5_filter4_',\n",
      " '/checkpoint/jasonleeinf/groundcomms/decoding_180612_cpt_alpha/multi30k/06.12_13.48.joint_cpt800_nllmean_ce1.0_pg10.0_vf1.0_lr1e-04_linear_ann100k_drop0.3_reinforce_msg1.0x_clip5.0_/multi30k_RNN_lr20.0_drop0.5_',\n",
      " '/checkpoint/jasonleeinf/groundcomms/decoding_180612_cpt_alpha/multi30k/06.12_13.48.joint_cpt800_nllmean_ce1.0_pg10.0_vf1.0_lr1e-04_linear_ann100k_drop0.3_reinforce_msg1.0x_clip5.0_/coco_RNN_lr10.0_drop0.5_',\n",
      " '/checkpoint/jasonleeinf/groundcomms/decoding_180612_cpt_alpha/multi30k/06.12_13.48.joint_cpt800_nllmean_ce1.0_pg10.0_vf1.0_lr1e-04_linear_ann100k_drop0.3_reinforce_msg1.0x_clip5.0_/coco_Feedforward_lr20.0_drop0.5_filter4_',\n",
      " '/checkpoint/jasonleeinf/groundcomms/decoding_180612_cpt_alpha/multi30k/06.12_13.48.joint_cpt800_nllmean_ce1.0_pg10.0_vf1.0_lr1e-04_linear_ann100k_drop0.3_reinforce_msg1.0x_clip5.0_/wikitext2_Feedforward_lr5.0_drop0.3_filter4_',\n",
      " '/checkpoint/jasonleeinf/groundcomms/decoding_180612_cpt_alpha/multi30k/06.12_13.48.joint_cpt800_nllmean_ce1.0_pg10.0_vf1.0_lr1e-04_linear_ann100k_drop0.3_reinforce_msg1.0x_clip5.0_/wikitext2_RNN_lr20.0_drop0.5_',\n",
      " '/checkpoint/jasonleeinf/groundcomms/decoding_180612_cpt_alpha/multi30k/06.12_13.48.joint_cpt800_nllmean_ce1.0_pg10.0_vf1.0_lr1e-04_linear_ann100k_drop0.3_reinforce_msg1.0x_clip5.0_/multi30k_RNN_lr20_drop0.5_',\n",
      " '/checkpoint/jasonleeinf/groundcomms/decoding_180612_cpt_alpha/multi30k/06.12_13.47.joint_cpt1000_nllmean_ce1.0_pg10.0_vf1.0_lr1e-04_linear_ann100k_drop0.3_reinforce_msg1.0x_clip5.0_/multi30k_Feedforward_lr5.0_drop0.5_filter4_',\n",
      " '/checkpoint/jasonleeinf/groundcomms/decoding_180612_cpt_alpha/multi30k/06.12_13.47.joint_cpt1000_nllmean_ce1.0_pg10.0_vf1.0_lr1e-04_linear_ann100k_drop0.3_reinforce_msg1.0x_clip5.0_/multi30k_RNN_lr20.0_drop0.5_',\n",
      " '/checkpoint/jasonleeinf/groundcomms/decoding_180612_cpt_alpha/multi30k/06.12_13.47.joint_cpt1000_nllmean_ce1.0_pg10.0_vf1.0_lr1e-04_linear_ann100k_drop0.3_reinforce_msg1.0x_clip5.0_/coco_RNN_lr10.0_drop0.5_',\n",
      " '/checkpoint/jasonleeinf/groundcomms/decoding_180612_cpt_alpha/multi30k/06.12_13.47.joint_cpt1000_nllmean_ce1.0_pg10.0_vf1.0_lr1e-04_linear_ann100k_drop0.3_reinforce_msg1.0x_clip5.0_/coco_Feedforward_lr20.0_drop0.5_filter4_',\n",
      " '/checkpoint/jasonleeinf/groundcomms/decoding_180612_cpt_alpha/multi30k/06.12_13.47.joint_cpt1000_nllmean_ce1.0_pg10.0_vf1.0_lr1e-04_linear_ann100k_drop0.3_reinforce_msg1.0x_clip5.0_/wikitext2_Feedforward_lr5.0_drop0.3_filter4_',\n",
      " '/checkpoint/jasonleeinf/groundcomms/decoding_180612_cpt_alpha/multi30k/06.12_13.47.joint_cpt1000_nllmean_ce1.0_pg10.0_vf1.0_lr1e-04_linear_ann100k_drop0.3_reinforce_msg1.0x_clip5.0_/wikitext2_RNN_lr20.0_drop0.5_',\n",
      " '/checkpoint/jasonleeinf/groundcomms/decoding_180612_cpt_alpha/multi30k/06.12_13.47.joint_cpt1000_nllmean_ce1.0_pg10.0_vf1.0_lr1e-04_linear_ann100k_drop0.3_reinforce_msg1.0x_clip5.0_/multi30k_RNN_lr20_drop0.5_',\n",
      " '/checkpoint/jasonleeinf/groundcomms/decoding_180612_cpt_alpha/multi30k/06.12_13.47.joint_cpt2500_nllmean_ce1.0_pg10.0_vf1.0_lr1e-04_linear_ann100k_drop0.3_reinforce_msg1.0x_clip5.0_/multi30k_Feedforward_lr5.0_drop0.5_filter4_',\n",
      " '/checkpoint/jasonleeinf/groundcomms/decoding_180612_cpt_alpha/multi30k/06.12_13.47.joint_cpt2500_nllmean_ce1.0_pg10.0_vf1.0_lr1e-04_linear_ann100k_drop0.3_reinforce_msg1.0x_clip5.0_/multi30k_RNN_lr20.0_drop0.5_',\n",
      " '/checkpoint/jasonleeinf/groundcomms/decoding_180612_cpt_alpha/multi30k/06.12_13.47.joint_cpt2500_nllmean_ce1.0_pg10.0_vf1.0_lr1e-04_linear_ann100k_drop0.3_reinforce_msg1.0x_clip5.0_/coco_Feedforward_lr20.0_drop0.5_filter4_',\n",
      " '/checkpoint/jasonleeinf/groundcomms/decoding_180612_cpt_alpha/multi30k/06.12_13.47.joint_cpt2500_nllmean_ce1.0_pg10.0_vf1.0_lr1e-04_linear_ann100k_drop0.3_reinforce_msg1.0x_clip5.0_/coco_RNN_lr10.0_drop0.5_',\n",
      " '/checkpoint/jasonleeinf/groundcomms/decoding_180612_cpt_alpha/multi30k/06.12_13.47.joint_cpt2500_nllmean_ce1.0_pg10.0_vf1.0_lr1e-04_linear_ann100k_drop0.3_reinforce_msg1.0x_clip5.0_/wikitext2_Feedforward_lr5.0_drop0.3_filter4_',\n",
      " '/checkpoint/jasonleeinf/groundcomms/decoding_180612_cpt_alpha/multi30k/06.12_13.47.joint_cpt2500_nllmean_ce1.0_pg10.0_vf1.0_lr1e-04_linear_ann100k_drop0.3_reinforce_msg1.0x_clip5.0_/wikitext2_RNN_lr20.0_drop0.5_',\n",
      " '/checkpoint/jasonleeinf/groundcomms/decoding_180612_cpt_alpha/multi30k/06.12_13.47.joint_cpt2500_nllmean_ce1.0_pg10.0_vf1.0_lr1e-04_linear_ann100k_drop0.3_reinforce_msg1.0x_clip5.0_/multi30k_RNN_lr20_drop0.5_',\n",
      " '/checkpoint/jasonleeinf/groundcomms/decoding_180612_cpt_alpha/multi30k/06.12_13.47.joint_cpt2500_nllmean_ce1.0_pg10.0_vf1.0_lr3e-05_linear_ann100k_drop0.3_reinforce_msg2.0x_clip5.0_/coco_RNN_lr10.0_drop0.5_',\n",
      " '/checkpoint/jasonleeinf/groundcomms/decoding_180612_cpt_alpha/multi30k/06.12_13.47.joint_cpt2500_nllmean_ce1.0_pg10.0_vf1.0_lr3e-05_linear_ann100k_drop0.3_reinforce_msg2.0x_clip5.0_/multi30k_RNN_lr20.0_drop0.5_',\n",
      " '/checkpoint/jasonleeinf/groundcomms/decoding_180612_cpt_alpha/multi30k/06.12_13.47.joint_cpt2500_nllmean_ce1.0_pg10.0_vf1.0_lr3e-05_linear_ann100k_drop0.3_reinforce_msg2.0x_clip5.0_/multi30k_Feedforward_lr5.0_drop0.5_filter4_',\n",
      " '/checkpoint/jasonleeinf/groundcomms/decoding_180612_cpt_alpha/multi30k/06.12_13.47.joint_cpt2500_nllmean_ce1.0_pg10.0_vf1.0_lr3e-05_linear_ann100k_drop0.3_reinforce_msg2.0x_clip5.0_/wikitext2_RNN_lr20.0_drop0.5_',\n",
      " '/checkpoint/jasonleeinf/groundcomms/decoding_180612_cpt_alpha/multi30k/06.12_13.47.joint_cpt2500_nllmean_ce1.0_pg10.0_vf1.0_lr3e-05_linear_ann100k_drop0.3_reinforce_msg2.0x_clip5.0_/wikitext2_Feedforward_lr5.0_drop0.3_filter4_',\n",
      " '/checkpoint/jasonleeinf/groundcomms/decoding_180612_cpt_alpha/multi30k/06.12_13.47.joint_cpt2500_nllmean_ce1.0_pg10.0_vf1.0_lr3e-05_linear_ann100k_drop0.3_reinforce_msg2.0x_clip5.0_/coco_Feedforward_lr20.0_drop0.5_filter4_',\n",
      " '/checkpoint/jasonleeinf/groundcomms/decoding_180612_cpt_alpha/multi30k/06.12_13.47.joint_cpt2500_nllmean_ce1.0_pg10.0_vf1.0_lr3e-05_linear_ann100k_drop0.3_reinforce_msg2.0x_clip5.0_/multi30k_RNN_lr20_drop0.5_',\n",
      " '/checkpoint/jasonleeinf/groundcomms/decoding_180612_cpt_alpha/multi30k/06.12_13.47.joint_cpt2500_nllmean_ce1.0_pg10.0_vf1.0_lr3e-04_linear_ann100k_drop0.3_reinforce_msg2.0x_clip5.0_/multi30k_RNN_lr20.0_drop0.5_',\n",
      " '/checkpoint/jasonleeinf/groundcomms/decoding_180612_cpt_alpha/multi30k/06.12_13.47.joint_cpt2500_nllmean_ce1.0_pg10.0_vf1.0_lr3e-04_linear_ann100k_drop0.3_reinforce_msg2.0x_clip5.0_/multi30k_Feedforward_lr5.0_drop0.5_filter4_',\n",
      " '/checkpoint/jasonleeinf/groundcomms/decoding_180612_cpt_alpha/multi30k/06.12_13.47.joint_cpt2500_nllmean_ce1.0_pg10.0_vf1.0_lr3e-04_linear_ann100k_drop0.3_reinforce_msg2.0x_clip5.0_/coco_RNN_lr10.0_drop0.5_',\n",
      " '/checkpoint/jasonleeinf/groundcomms/decoding_180612_cpt_alpha/multi30k/06.12_13.47.joint_cpt2500_nllmean_ce1.0_pg10.0_vf1.0_lr3e-04_linear_ann100k_drop0.3_reinforce_msg2.0x_clip5.0_/wikitext2_RNN_lr20.0_drop0.5_',\n",
      " '/checkpoint/jasonleeinf/groundcomms/decoding_180612_cpt_alpha/multi30k/06.12_13.47.joint_cpt2500_nllmean_ce1.0_pg10.0_vf1.0_lr3e-04_linear_ann100k_drop0.3_reinforce_msg2.0x_clip5.0_/wikitext2_Feedforward_lr5.0_drop0.3_filter4_',\n",
      " '/checkpoint/jasonleeinf/groundcomms/decoding_180612_cpt_alpha/multi30k/06.12_13.47.joint_cpt2500_nllmean_ce1.0_pg10.0_vf1.0_lr3e-04_linear_ann100k_drop0.3_reinforce_msg2.0x_clip5.0_/coco_Feedforward_lr20.0_drop0.5_filter4_',\n",
      " '/checkpoint/jasonleeinf/groundcomms/decoding_180612_cpt_alpha/multi30k/06.12_13.47.joint_cpt2500_nllmean_ce1.0_pg10.0_vf1.0_lr3e-04_linear_ann100k_drop0.3_reinforce_msg2.0x_clip5.0_/multi30k_RNN_lr20_drop0.5_',\n",
      " '/checkpoint/jasonleeinf/groundcomms/decoding_180612_cpt_alpha/multi30k/06.12_13.47.joint_cpt5000_nllmean_ce1.0_pg10.0_vf1.0_lr1e-04_linear_ann100k_drop0.3_reinforce_msg1.0x_clip5.0_/multi30k_Feedforward_lr5.0_drop0.5_filter4_',\n",
      " '/checkpoint/jasonleeinf/groundcomms/decoding_180612_cpt_alpha/multi30k/06.12_13.47.joint_cpt5000_nllmean_ce1.0_pg10.0_vf1.0_lr1e-04_linear_ann100k_drop0.3_reinforce_msg1.0x_clip5.0_/multi30k_RNN_lr20.0_drop0.5_',\n",
      " '/checkpoint/jasonleeinf/groundcomms/decoding_180612_cpt_alpha/multi30k/06.12_13.47.joint_cpt5000_nllmean_ce1.0_pg10.0_vf1.0_lr1e-04_linear_ann100k_drop0.3_reinforce_msg1.0x_clip5.0_/coco_RNN_lr10.0_drop0.5_',\n",
      " '/checkpoint/jasonleeinf/groundcomms/decoding_180612_cpt_alpha/multi30k/06.12_13.47.joint_cpt5000_nllmean_ce1.0_pg10.0_vf1.0_lr1e-04_linear_ann100k_drop0.3_reinforce_msg1.0x_clip5.0_/coco_Feedforward_lr20.0_drop0.5_filter4_',\n",
      " '/checkpoint/jasonleeinf/groundcomms/decoding_180612_cpt_alpha/multi30k/06.12_13.47.joint_cpt5000_nllmean_ce1.0_pg10.0_vf1.0_lr1e-04_linear_ann100k_drop0.3_reinforce_msg1.0x_clip5.0_/wikitext2_RNN_lr20.0_drop0.5_',\n",
      " '/checkpoint/jasonleeinf/groundcomms/decoding_180612_cpt_alpha/multi30k/06.12_13.47.joint_cpt5000_nllmean_ce1.0_pg10.0_vf1.0_lr1e-04_linear_ann100k_drop0.3_reinforce_msg1.0x_clip5.0_/wikitext2_Feedforward_lr5.0_drop0.3_filter4_',\n",
      " '/checkpoint/jasonleeinf/groundcomms/decoding_180612_cpt_alpha/multi30k/06.12_13.47.joint_cpt5000_nllmean_ce1.0_pg10.0_vf1.0_lr1e-04_linear_ann100k_drop0.3_reinforce_msg1.0x_clip5.0_/multi30k_RNN_lr20_drop0.5_',\n",
      " '/checkpoint/jasonleeinf/groundcomms/decoding_180612_cpt_alpha/multi30k/06.12_13.47.joint_cpt5000_nllmean_ce1.0_pg10.0_vf1.0_lr3e-04_linear_ann100k_drop0.3_reinforce_msg2.0x_clip5.0_/multi30k_RNN_lr20.0_drop0.5_',\n",
      " '/checkpoint/jasonleeinf/groundcomms/decoding_180612_cpt_alpha/multi30k/06.12_13.47.joint_cpt5000_nllmean_ce1.0_pg10.0_vf1.0_lr3e-04_linear_ann100k_drop0.3_reinforce_msg2.0x_clip5.0_/multi30k_Feedforward_lr5.0_drop0.5_filter4_',\n",
      " '/checkpoint/jasonleeinf/groundcomms/decoding_180612_cpt_alpha/multi30k/06.12_13.47.joint_cpt5000_nllmean_ce1.0_pg10.0_vf1.0_lr3e-04_linear_ann100k_drop0.3_reinforce_msg2.0x_clip5.0_/wikitext2_RNN_lr20.0_drop0.5_',\n",
      " '/checkpoint/jasonleeinf/groundcomms/decoding_180612_cpt_alpha/multi30k/06.12_13.47.joint_cpt5000_nllmean_ce1.0_pg10.0_vf1.0_lr3e-04_linear_ann100k_drop0.3_reinforce_msg2.0x_clip5.0_/coco_RNN_lr10.0_drop0.5_',\n",
      " '/checkpoint/jasonleeinf/groundcomms/decoding_180612_cpt_alpha/multi30k/06.12_13.47.joint_cpt5000_nllmean_ce1.0_pg10.0_vf1.0_lr3e-04_linear_ann100k_drop0.3_reinforce_msg2.0x_clip5.0_/wikitext2_Feedforward_lr5.0_drop0.3_filter4_',\n",
      " '/checkpoint/jasonleeinf/groundcomms/decoding_180612_cpt_alpha/multi30k/06.12_13.47.joint_cpt5000_nllmean_ce1.0_pg10.0_vf1.0_lr3e-04_linear_ann100k_drop0.3_reinforce_msg2.0x_clip5.0_/coco_Feedforward_lr20.0_drop0.5_filter4_',\n",
      " '/checkpoint/jasonleeinf/groundcomms/decoding_180612_cpt_alpha/multi30k/06.12_13.47.joint_cpt5000_nllmean_ce1.0_pg10.0_vf1.0_lr3e-04_linear_ann100k_drop0.3_reinforce_msg2.0x_clip5.0_/multi30k_RNN_lr20_drop0.5_',\n",
      " '/checkpoint/jasonleeinf/groundcomms/decoding_180612_cpt_alpha/multi30k/06.12_13.48.joint_cpt10000_nllmean_ce1.0_pg10.0_vf1.0_lr1e-04_linear_ann100k_drop0.3_reinforce_msg1.0x_clip5.0_/multi30k_Feedforward_lr5.0_drop0.5_filter4_',\n",
      " '/checkpoint/jasonleeinf/groundcomms/decoding_180612_cpt_alpha/multi30k/06.12_13.48.joint_cpt10000_nllmean_ce1.0_pg10.0_vf1.0_lr1e-04_linear_ann100k_drop0.3_reinforce_msg1.0x_clip5.0_/multi30k_RNN_lr20.0_drop0.5_',\n",
      " '/checkpoint/jasonleeinf/groundcomms/decoding_180612_cpt_alpha/multi30k/06.12_13.48.joint_cpt10000_nllmean_ce1.0_pg10.0_vf1.0_lr1e-04_linear_ann100k_drop0.3_reinforce_msg1.0x_clip5.0_/coco_Feedforward_lr20.0_drop0.5_filter4_',\n",
      " '/checkpoint/jasonleeinf/groundcomms/decoding_180612_cpt_alpha/multi30k/06.12_13.48.joint_cpt10000_nllmean_ce1.0_pg10.0_vf1.0_lr1e-04_linear_ann100k_drop0.3_reinforce_msg1.0x_clip5.0_/coco_RNN_lr10.0_drop0.5_',\n",
      " '/checkpoint/jasonleeinf/groundcomms/decoding_180612_cpt_alpha/multi30k/06.12_13.48.joint_cpt10000_nllmean_ce1.0_pg10.0_vf1.0_lr1e-04_linear_ann100k_drop0.3_reinforce_msg1.0x_clip5.0_/wikitext2_RNN_lr20.0_drop0.5_',\n",
      " '/checkpoint/jasonleeinf/groundcomms/decoding_180612_cpt_alpha/multi30k/06.12_13.48.joint_cpt10000_nllmean_ce1.0_pg10.0_vf1.0_lr1e-04_linear_ann100k_drop0.3_reinforce_msg1.0x_clip5.0_/wikitext2_Feedforward_lr5.0_drop0.3_filter4_',\n",
      " '/checkpoint/jasonleeinf/groundcomms/decoding_180612_cpt_alpha/multi30k/06.12_13.48.joint_cpt10000_nllmean_ce1.0_pg10.0_vf1.0_lr1e-04_linear_ann100k_drop0.3_reinforce_msg1.0x_clip5.0_/multi30k_RNN_lr20_drop0.5_',\n",
      " '/checkpoint/jasonleeinf/groundcomms/decoding_180612_cpt_alpha/multi30k/06.12_13.47.joint_cpt10000_nllmean_ce1.0_pg10.0_vf1.0_lr3e-04_linear_ann100k_drop0.3_reinforce_msg2.0x_clip5.0_/multi30k_RNN_lr20.0_drop0.5_',\n",
      " '/checkpoint/jasonleeinf/groundcomms/decoding_180612_cpt_alpha/multi30k/06.12_13.47.joint_cpt10000_nllmean_ce1.0_pg10.0_vf1.0_lr3e-04_linear_ann100k_drop0.3_reinforce_msg2.0x_clip5.0_/multi30k_Feedforward_lr5.0_drop0.5_filter4_',\n",
      " '/checkpoint/jasonleeinf/groundcomms/decoding_180612_cpt_alpha/multi30k/06.12_13.47.joint_cpt10000_nllmean_ce1.0_pg10.0_vf1.0_lr3e-04_linear_ann100k_drop0.3_reinforce_msg2.0x_clip5.0_/wikitext2_RNN_lr20.0_drop0.5_',\n",
      " '/checkpoint/jasonleeinf/groundcomms/decoding_180612_cpt_alpha/multi30k/06.12_13.47.joint_cpt10000_nllmean_ce1.0_pg10.0_vf1.0_lr3e-04_linear_ann100k_drop0.3_reinforce_msg2.0x_clip5.0_/coco_RNN_lr10.0_drop0.5_',\n",
      " '/checkpoint/jasonleeinf/groundcomms/decoding_180612_cpt_alpha/multi30k/06.12_13.47.joint_cpt10000_nllmean_ce1.0_pg10.0_vf1.0_lr3e-04_linear_ann100k_drop0.3_reinforce_msg2.0x_clip5.0_/wikitext2_Feedforward_lr5.0_drop0.3_filter4_',\n",
      " '/checkpoint/jasonleeinf/groundcomms/decoding_180612_cpt_alpha/multi30k/06.12_13.47.joint_cpt10000_nllmean_ce1.0_pg10.0_vf1.0_lr3e-04_linear_ann100k_drop0.3_reinforce_msg2.0x_clip5.0_/coco_Feedforward_lr20.0_drop0.5_filter4_',\n",
      " '/checkpoint/jasonleeinf/groundcomms/decoding_180612_cpt_alpha/multi30k/06.12_13.47.joint_cpt10000_nllmean_ce1.0_pg10.0_vf1.0_lr3e-04_linear_ann100k_drop0.3_reinforce_msg2.0x_clip5.0_/multi30k_RNN_lr20_drop0.5_']\n"
     ]
    }
   ],
   "source": [
    "en_lm_files = []\n",
    "for gc_path in gc_paths:\n",
    "    for subdir in Path(gc_path).iterdir():\n",
    "        ss = str(subdir)\n",
    "        if \"wikitext2_\" in ss or \\\n",
    "           \"coco_\" in ss or \\\n",
    "           \"multi30k_\" in ss:\n",
    "            en_lm_files.append( ss )\n",
    "\n",
    "pprint.pprint(en_lm_files)"
   ]
  },
  {
   "cell_type": "code",
   "execution_count": 9,
   "metadata": {},
   "outputs": [
    {
     "name": "stdout",
     "output_type": "stream",
     "text": [
      "12\n",
      "['/checkpoint/jasonleeinf/groundcomms/decoding_180612_cpt_alpha/multi30k/06.12_13.48.joint_cpt400_nllmean_ce1.0_pg10.0_vf1.0_lr3e-05_linear_ann100k_drop0.3_reinforce_msg1.0x_clip5.0_/multi30k_RNN_lr20_drop0.5_',\n",
      " '/checkpoint/jasonleeinf/groundcomms/decoding_180612_cpt_alpha/multi30k/06.12_13.48.joint_cpt400_nllmean_ce1.0_pg10.0_vf1.0_lr1e-04_linear_ann100k_drop0.3_reinforce_msg1.0x_clip5.0_/multi30k_RNN_lr20_drop0.5_',\n",
      " '/checkpoint/jasonleeinf/groundcomms/decoding_180612_cpt_alpha/multi30k/06.12_13.48.joint_cpt600_nllmean_ce1.0_pg10.0_vf1.0_lr3e-05_linear_ann100k_drop0.3_reinforce_msg1.0x_clip5.0_/multi30k_RNN_lr20_drop0.5_',\n",
      " '/checkpoint/jasonleeinf/groundcomms/decoding_180612_cpt_alpha/multi30k/06.12_13.48.joint_cpt800_nllmean_ce1.0_pg10.0_vf1.0_lr1e-04_linear_ann100k_drop0.3_reinforce_msg1.0x_clip5.0_/multi30k_RNN_lr20_drop0.5_',\n",
      " '/checkpoint/jasonleeinf/groundcomms/decoding_180612_cpt_alpha/multi30k/06.12_13.47.joint_cpt1000_nllmean_ce1.0_pg10.0_vf1.0_lr1e-04_linear_ann100k_drop0.3_reinforce_msg1.0x_clip5.0_/multi30k_RNN_lr20_drop0.5_',\n",
      " '/checkpoint/jasonleeinf/groundcomms/decoding_180612_cpt_alpha/multi30k/06.12_13.47.joint_cpt2500_nllmean_ce1.0_pg10.0_vf1.0_lr1e-04_linear_ann100k_drop0.3_reinforce_msg1.0x_clip5.0_/multi30k_RNN_lr20_drop0.5_',\n",
      " '/checkpoint/jasonleeinf/groundcomms/decoding_180612_cpt_alpha/multi30k/06.12_13.47.joint_cpt2500_nllmean_ce1.0_pg10.0_vf1.0_lr3e-05_linear_ann100k_drop0.3_reinforce_msg2.0x_clip5.0_/multi30k_RNN_lr20_drop0.5_',\n",
      " '/checkpoint/jasonleeinf/groundcomms/decoding_180612_cpt_alpha/multi30k/06.12_13.47.joint_cpt2500_nllmean_ce1.0_pg10.0_vf1.0_lr3e-04_linear_ann100k_drop0.3_reinforce_msg2.0x_clip5.0_/multi30k_RNN_lr20_drop0.5_',\n",
      " '/checkpoint/jasonleeinf/groundcomms/decoding_180612_cpt_alpha/multi30k/06.12_13.47.joint_cpt5000_nllmean_ce1.0_pg10.0_vf1.0_lr1e-04_linear_ann100k_drop0.3_reinforce_msg1.0x_clip5.0_/multi30k_RNN_lr20_drop0.5_',\n",
      " '/checkpoint/jasonleeinf/groundcomms/decoding_180612_cpt_alpha/multi30k/06.12_13.47.joint_cpt5000_nllmean_ce1.0_pg10.0_vf1.0_lr3e-04_linear_ann100k_drop0.3_reinforce_msg2.0x_clip5.0_/multi30k_RNN_lr20_drop0.5_',\n",
      " '/checkpoint/jasonleeinf/groundcomms/decoding_180612_cpt_alpha/multi30k/06.12_13.48.joint_cpt10000_nllmean_ce1.0_pg10.0_vf1.0_lr1e-04_linear_ann100k_drop0.3_reinforce_msg1.0x_clip5.0_/multi30k_RNN_lr20_drop0.5_',\n",
      " '/checkpoint/jasonleeinf/groundcomms/decoding_180612_cpt_alpha/multi30k/06.12_13.47.joint_cpt10000_nllmean_ce1.0_pg10.0_vf1.0_lr3e-04_linear_ann100k_drop0.3_reinforce_msg2.0x_clip5.0_/multi30k_RNN_lr20_drop0.5_']\n"
     ]
    }
   ],
   "source": [
    "#filters = [\"multi30k_\", \"RNN\"]\n",
    "filters = [\"multi30k_\", \"RNN\", \"20_\"]\n",
    "\n",
    "def satisfy(filters, string):\n",
    "    for filter in filters:\n",
    "        if not filter in string:\n",
    "            return False\n",
    "    return True\n",
    "\n",
    "def lm_info(string):\n",
    "    ss = \"\"\n",
    "    lists = [\"wikitext2_\", \"coco_\", \"multi30k_\", \"RNN\", \"Feedforward\"]\n",
    "    for ll in lists:\n",
    "        if ll in string:\n",
    "            ss += ll\n",
    "    return ss\n",
    "\n",
    "def model_info(string):\n",
    "    cpt = string[string.find(\"joint_cpt\") : string.find(\"_\", string.find(\"joint_cpt\")+7)]\n",
    "    lr = string[string.find(\"lr\") : string.find(\"_\", string.find(\"lr\"))]\n",
    "    msg = string[string.find('msg') : string.find(\"msg\")+6]\n",
    "    return \"{}_{}_{}\".format(cpt, lr, msg)\n",
    "\n",
    "lm_files = [xx for xx in en_lm_files if satisfy(filters, xx)]\n",
    "\n",
    "print (len(lm_files))\n",
    "pprint.pprint (lm_files)"
   ]
  },
  {
   "cell_type": "code",
   "execution_count": 11,
   "metadata": {},
   "outputs": [
    {
     "name": "stdout",
     "output_type": "stream",
     "text": [
      "High five! You successfully sent some data to your account on plotly. View your plot in your browser at https://plot.ly/~loneplay/0 or inside your plot.ly account where it is named 'hi'\n"
     ]
    },
    {
     "data": {
      "text/html": [
       "<iframe id=\"igraph\" scrolling=\"no\" style=\"border:none;\" seamless=\"seamless\" src=\"https://plot.ly/~loneplay/0.embed\" height=\"525px\" width=\"100%\"></iframe>"
      ],
      "text/plain": [
       "<plotly.tools.PlotlyDisplay object>"
      ]
     },
     "execution_count": 11,
     "metadata": {},
     "output_type": "execute_result"
    }
   ],
   "source": [
    "traces = []\n",
    "upto = 50000\n",
    "for lm_file in lm_files:\n",
    "    en_nll_lm = torch.load(lm_file)\n",
    "    xx = list(en_nll_lm.keys())\n",
    "    xx = [x for x in xx if x < upto]\n",
    "    yy = [(en_nll_lm[k]) for k in xx]\n",
    "    trace = go.Scatter(\n",
    "        x = xx,\n",
    "        y = yy,\n",
    "        mode = 'lines',\n",
    "        name = model_info(lm_file) + \"_\" +lm_info(lm_file)\n",
    "    )\n",
    "    traces.append(trace)\n",
    "\n",
    "py.iplot(traces, filename = 'hi')\n"
   ]
  },
  {
   "cell_type": "code",
   "execution_count": null,
   "metadata": {},
   "outputs": [],
   "source": []
  }
 ],
 "metadata": {
  "kernelspec": {
   "display_name": "Python 3",
   "language": "python",
   "name": "python3"
  },
  "language_info": {
   "codemirror_mode": {
    "name": "ipython",
    "version": 3
   },
   "file_extension": ".py",
   "mimetype": "text/x-python",
   "name": "python",
   "nbconvert_exporter": "python",
   "pygments_lexer": "ipython3",
   "version": "3.6.5"
  }
 },
 "nbformat": 4,
 "nbformat_minor": 2
}
